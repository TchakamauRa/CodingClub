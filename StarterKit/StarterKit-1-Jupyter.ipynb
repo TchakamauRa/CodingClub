{
 "cells": [
  {
   "cell_type": "markdown",
   "metadata": {},
   "source": [
    "This contains plain text that renders to HTML when you double-click me to focus, and then press shift+enter."
   ]
  },
  {
   "cell_type": "code",
   "execution_count": null,
   "metadata": {},
   "outputs": [],
   "source": [
    "# this contains code that will be evaluated when you click me and press enter\n",
    "2+2"
   ]
  },
  {
   "cell_type": "markdown",
   "metadata": {},
   "source": [
    "# This is a title in Markdown\n",
    "## This is a sub(1)title\n",
    "### This is a sub(2)title\n",
    "#### This is a sub(3)title\n",
    "##### This is a sub(4)title\n",
    "\n",
    "[This is a link to google](https://www.google.com)\n",
    "\n",
    "*This text is slanted*\n",
    "\n",
    "**This text is bold**\n",
    "\n",
    "> This is a quote.\n",
    "\n",
    "The following is a code-block:\n",
    "```\n",
    "cd dir\n",
    "```\n",
    "\n",
    "but you can also write code like ``cd dir`` inline.\n",
    "\n",
    "------\n",
    "\n",
    "These dashes create a horizontal line across the page."
   ]
  },
  {
   "cell_type": "markdown",
   "metadata": {},
   "source": [
    "# [Go back to Overview](StarterKit-0-Overview.ipynb)"
   ]
  },
  {
   "cell_type": "code",
   "execution_count": null,
   "metadata": {},
   "outputs": [],
   "source": []
  }
 ],
 "metadata": {
  "kernelspec": {
   "display_name": "Python 3",
   "language": "python",
   "name": "python3"
  },
  "language_info": {
   "codemirror_mode": {
    "name": "ipython",
    "version": 3
   },
   "file_extension": ".py",
   "mimetype": "text/x-python",
   "name": "python",
   "nbconvert_exporter": "python",
   "pygments_lexer": "ipython3",
   "version": "3.7.0"
  }
 },
 "nbformat": 4,
 "nbformat_minor": 2
}
