{
 "cells": [
  {
   "cell_type": "markdown",
   "metadata": {},
   "source": [
    "<img src=\"https://d3qi0qp55mx5f5.cloudfront.net/shared-resources/i/template/uc_wordmark_hires.gif\" width=\"300\"/>\n",
    "<img src=\"http://jupyter.org/assets/main-logo.svg\" width=\"50\"/>"
   ]
  },
  {
   "cell_type": "markdown",
   "metadata": {},
   "source": [
    "\n",
    "# Starter Kit Overview\n",
    "\n",
    "## Hands-on with Python, Jupyter Notebooks, NumPy, and Matplotlib\n",
    "\n",
    "These *Starter Kit* notebooks aim to give everyone in the [Coding Club](https://uchicagophysics.github.io/CodingClub/) a means to establish a baseline set of skills and basic foundation for understanding, writing, and executing `python` code for the Club projects.\n",
    "\n",
    "The tutorials will be presented in `Jupyter` notebooks. These allow for:\n",
    "\n",
    "- in-browser editing for code with syntax highlighting\n",
    "- ability to execute code from the browser alongside the results of computations\n",
    "- shareable, reproducable, and modular\n",
    "\n",
    "\n",
    "## Computational Science and Physics\n",
    "\n",
    "Computational solutions to scientific problems face many common challenges despite the infinite array of questions that are being asked:\n",
    "\n",
    "- define functions to carry out common and repetitive tasks\n",
    "- obtain data and import the dataset into your code\n",
    "- visualize the uncleaned dataset\n",
    "- clean / filter / sanitize and apply selections on the dataset\n",
    "- apply statistical analysis, machine learning, and other model selections\n",
    "- analyze the results\n",
    "- present the results\n",
    "\n",
    "While we won't develop full solutions to each of these, these notebooks are meant to give everyone a baseline means to getting started on doing so.\n",
    "\n",
    "## Outline\n",
    "\n",
    "Today, we have a few hands-on exercises we will go through. The first exercise we will go through together as a guided tutorial on using this system (JuPyter). The rest of the tutorials will demonstrate some of the initial concepts of Python and then show how to use certain key features technically as these will show up in later tutorials.\n",
    "\n",
    "- [Introduction to Jupyter notebooks](StarterKit-1-Jupyter.ipynb)\n",
    "- [Hands-on Exercise in Python and Git](StarterKit-2-Python.ipynb)\n",
    "- [NumPy Basics](StarterKit-3-NumPy.ipynb)\n",
    "- [Matplotlib Basics](StarterKit-4-Matplotlib.ipynb)"
   ]
  },
  {
   "cell_type": "code",
   "execution_count": null,
   "metadata": {},
   "outputs": [],
   "source": []
  }
 ],
 "metadata": {
  "kernelspec": {
   "display_name": "Python 3",
   "language": "python",
   "name": "python3"
  },
  "language_info": {
   "codemirror_mode": {
    "name": "ipython",
    "version": 3
   },
   "file_extension": ".py",
   "mimetype": "text/x-python",
   "name": "python",
   "nbconvert_exporter": "python",
   "pygments_lexer": "ipython3",
   "version": "3.7.0"
  }
 },
 "nbformat": 4,
 "nbformat_minor": 2
}
