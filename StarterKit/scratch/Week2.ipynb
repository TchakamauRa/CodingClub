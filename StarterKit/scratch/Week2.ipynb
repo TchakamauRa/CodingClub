{
 "cells": [
  {
   "cell_type": "markdown",
   "metadata": {
    "deletable": true,
    "editable": true
   },
   "source": [
    "# Week 2"
   ]
  },
  {
   "cell_type": "markdown",
   "metadata": {
    "deletable": true,
    "editable": true
   },
   "source": [
    "## Topics covered last week\n",
    "\n",
    "* Variables\n",
    "* Output formatting\n",
    "* Conditionals and Operations\n",
    "* Lists"
   ]
  },
  {
   "cell_type": "markdown",
   "metadata": {
    "deletable": true,
    "editable": true
   },
   "source": [
    "# Project 1\n",
    " \n",
    " 1. Search for primes\n",
    " 2. Different algorithms\n",
    " "
   ]
  },
  {
   "cell_type": "markdown",
   "metadata": {
    "deletable": true,
    "editable": true
   },
   "source": [
    "# Topics covered this week\n",
    "\n",
    " 1. Loops - for and while\n",
    " 2. Defining functions\n",
    " 3. Writing clean and efficient code"
   ]
  },
  {
   "cell_type": "markdown",
   "metadata": {
    "deletable": true,
    "editable": true
   },
   "source": [
    "## Loops"
   ]
  },
  {
   "cell_type": "markdown",
   "metadata": {
    "deletable": true,
    "editable": true
   },
   "source": [
    "Loops are iterative structures. There are various kinds of loops and they have their uses. \n",
    "\n",
    "Examples:\n",
    " * If loops\n",
    " * For loops\n",
    " * While loops\n",
    " \n",
    "Loops need to be handled with care. Make sure loops meet well-defined termination conditions. Otherwise your program may get stuck in a loop without a way out!!"
   ]
  },
  {
   "cell_type": "markdown",
   "metadata": {
    "deletable": true,
    "editable": true
   },
   "source": [
    "### While loops"
   ]
  },
  {
   "cell_type": "markdown",
   "metadata": {
    "deletable": true,
    "editable": true
   },
   "source": [
    "```\n",
    "Syntax:\n",
    "\n",
    "   while <condition is True>:\n",
    "      <execute commands> \n",
    "```"
   ]
  },
  {
   "cell_type": "markdown",
   "metadata": {
    "deletable": true,
    "editable": true
   },
   "source": [
    "Let us print out squares of integers from 1 to 10 using a while loop"
   ]
  },
  {
   "cell_type": "code",
   "execution_count": 1,
   "metadata": {
    "collapsed": false,
    "deletable": true,
    "editable": true
   },
   "outputs": [
    {
     "name": "stdout",
     "output_type": "stream",
     "text": [
      "1\n",
      "4\n",
      "9\n",
      "16\n",
      "25\n",
      "36\n",
      "49\n",
      "64\n",
      "81\n",
      "100\n"
     ]
    }
   ],
   "source": [
    "i = 1 # initialize the integer\n",
    "\n",
    "while (i <= 10):\n",
    "    print(i*i)\n",
    "    i = i+1     # This is important, the while loop does not increment automatically!\n",
    "                # If this increment is not done, the loop gets stuck and goes on potentially endlessly.\n"
   ]
  },
  {
   "cell_type": "markdown",
   "metadata": {
    "deletable": true,
    "editable": true
   },
   "source": [
    "While loops are simpler in structure - more intuitive because they are framed in terms of conditions. The most important attribute is that it runs till a condition is satisfied. If the number of iterations is not known beforehand, this is a good choice. \n",
    "\n",
    "Downside is, stringing together multiple conditions may be tricky.\n",
    "\n",
    "For instance, Let us try to do squares of numbers in the interval (0, 10] and (15, 20]. To do this using just interval conditions would be hard. \n",
    "\n",
    "Python allows the user to loop through elements of a list. Very useful to know.\n",
    "\n",
    "But we have to create a list first. Let us use the `range` function. \n",
    "\n",
    "``` Syntax\n",
    "    list(range(m, n))\n",
    "```\n",
    "\n",
    "This creates a list of integers between $m$ and $n$ excluding $n$.\n"
   ]
  },
  {
   "cell_type": "code",
   "execution_count": 20,
   "metadata": {
    "collapsed": false,
    "deletable": true,
    "editable": true
   },
   "outputs": [
    {
     "name": "stdout",
     "output_type": "stream",
     "text": [
      "[1, 2, 3, 4, 5, 6, 7, 8, 9, 10]\n",
      "[1, 2, 3, 4, 5, 6, 7, 8, 9, 10, 15, 16, 17, 18, 19, 20]\n"
     ]
    }
   ],
   "source": [
    "list1 = list(range(1,11))\n",
    "print(list1)\n",
    "list1 = list(range(1, 11)) + list(range(15, 21))\n",
    "print(list1)"
   ]
  },
  {
   "cell_type": "markdown",
   "metadata": {
    "deletable": true,
    "editable": true
   },
   "source": [
    "Now we use this list of iterables to do the while loop"
   ]
  },
  {
   "cell_type": "code",
   "execution_count": 34,
   "metadata": {
    "collapsed": false,
    "deletable": true,
    "editable": true
   },
   "outputs": [
    {
     "name": "stdout",
     "output_type": "stream",
     "text": [
      "[1, 2, 3, 4, 5, 6, 7, 8, 9, 10, 15, 16, 17, 18, 19, 20]\n",
      "4\n",
      "9\n",
      "16\n",
      "25\n",
      "36\n",
      "49\n",
      "64\n",
      "81\n",
      "100\n",
      "225\n",
      "256\n",
      "289\n",
      "324\n",
      "361\n",
      "400\n"
     ]
    }
   ],
   "source": [
    "i = 1\n",
    "print(list1)\n",
    "while i < len(list1):\n",
    "    print(list1[i]*list1[i])\n",
    "    i = i + 1\n"
   ]
  },
  {
   "cell_type": "markdown",
   "metadata": {
    "deletable": true,
    "editable": true
   },
   "source": [
    "This was a bit trickier than we would like. Real world situations may not be that directly applicable. "
   ]
  },
  {
   "cell_type": "markdown",
   "metadata": {
    "deletable": true,
    "editable": true
   },
   "source": [
    "### For loops"
   ]
  },
  {
   "cell_type": "markdown",
   "metadata": {
    "deletable": true,
    "editable": true
   },
   "source": [
    "``` Syntax:\n",
    "\n",
    "    for <item> in <list>:\n",
    "        <code to execute>\n",
    "        \n",
    "```"
   ]
  },
  {
   "cell_type": "markdown",
   "metadata": {
    "deletable": true,
    "editable": true
   },
   "source": [
    "The `for` loop also works extremely well with lists and list elements can be used as iterables directly. The `for` loop iterates over the elements of a list. The list can contain anything.\n",
    "\n",
    "The `for` loop is simpler to execute in terms of commands. The onus is on the user to translate whatever conditions\n",
    "are to be imposed, in a form that the computer understands. The biggest difference is that the `for` loop only performs a set number of iterations. "
   ]
  },
  {
   "cell_type": "code",
   "execution_count": 35,
   "metadata": {
    "collapsed": false,
    "deletable": true,
    "editable": true
   },
   "outputs": [
    {
     "name": "stdout",
     "output_type": "stream",
     "text": [
      "1\n",
      "2\n",
      "3\n",
      "cat\n",
      "dog\n"
     ]
    }
   ],
   "source": [
    "list2 = [1, 2, 3, 'cat', 'dog']\n",
    "\n",
    "for i in list2:\n",
    "    print(i)\n",
    "    \n"
   ]
  },
  {
   "cell_type": "code",
   "execution_count": 30,
   "metadata": {
    "collapsed": false,
    "deletable": true,
    "editable": true
   },
   "outputs": [
    {
     "name": "stdout",
     "output_type": "stream",
     "text": [
      "[1, 2, 3, 4, 5, 6, 7, 8, 9, 10, 15, 16, 17, 18, 19, 20]\n",
      "1\n",
      "4\n",
      "9\n",
      "16\n",
      "25\n",
      "36\n",
      "49\n",
      "64\n",
      "81\n",
      "100\n",
      "225\n",
      "256\n",
      "289\n",
      "324\n",
      "361\n",
      "400\n"
     ]
    }
   ],
   "source": [
    "i = 1\n",
    "\n",
    "print(list1)\n",
    "\n",
    "for i in list1:\n",
    "    print(i*i) # Notice we didn't have to increment i\n",
    "    \n"
   ]
  },
  {
   "cell_type": "markdown",
   "metadata": {
    "deletable": true,
    "editable": true
   },
   "source": [
    "### How to get out of loops and/or pass over commands"
   ]
  },
  {
   "cell_type": "markdown",
   "metadata": {
    "deletable": true,
    "editable": true
   },
   "source": [
    "With great automation comes great responsibility. Loops are your first step to automating tasks - especially repetitive tasks. They can also be a handful if you lose control over them. \n",
    "\n",
    "Best case of a loop gone wrong is that the program spends too long doing irrelevant calculations and wastes time and resources. \n",
    "\n",
    "Worst case of a loop gone wrong is that the program crashes and causes you to lose data (and also money if it is a paid job).  "
   ]
  },
  {
   "cell_type": "markdown",
   "metadata": {
    "deletable": true,
    "editable": true
   },
   "source": [
    "### `break`  and  `continue`"
   ]
  },
  {
   "cell_type": "markdown",
   "metadata": {
    "deletable": true,
    "editable": true
   },
   "source": [
    "`break` can be used to immediately finish a loop."
   ]
  },
  {
   "cell_type": "code",
   "execution_count": 40,
   "metadata": {
    "collapsed": false,
    "deletable": true,
    "editable": true
   },
   "outputs": [
    {
     "name": "stdout",
     "output_type": "stream",
     "text": [
      "M\n",
      "i\n",
      "s\n",
      "letter \"s\" found!\n",
      "done!\n"
     ]
    }
   ],
   "source": [
    "for letter in 'Mississippi': # Remember how we talked about string slicing and list slicing looking very similar? \n",
    "    print(letter)\n",
    "    if letter == 's':\n",
    "        print('letter \"s\" found!')\n",
    "        break\n",
    "print('done!')"
   ]
  },
  {
   "cell_type": "markdown",
   "metadata": {
    "deletable": true,
    "editable": true
   },
   "source": [
    "`continue` can be use to pass immediately to the next iteration of a loop."
   ]
  },
  {
   "cell_type": "code",
   "execution_count": 39,
   "metadata": {
    "collapsed": false,
    "deletable": true,
    "editable": true
   },
   "outputs": [
    {
     "name": "stdout",
     "output_type": "stream",
     "text": [
      "M\n",
      "i\n",
      "i\n",
      "i\n",
      "p\n",
      "p\n",
      "i\n"
     ]
    }
   ],
   "source": [
    "for letter in 'Mississippi':\n",
    "    if letter == 's':\n",
    "        continue\n",
    "    print(letter)"
   ]
  },
  {
   "cell_type": "markdown",
   "metadata": {
    "deletable": true,
    "editable": true
   },
   "source": [
    "## Functions"
   ]
  },
  {
   "cell_type": "markdown",
   "metadata": {
    "deletable": true,
    "editable": true
   },
   "source": [
    "## Project 1: Check if a number is a prime"
   ]
  },
  {
   "cell_type": "markdown",
   "metadata": {
    "deletable": true,
    "editable": true
   },
   "source": [
    "**Definition.** A prime number is an integer $n \\geq 1$ which is divisible only by 1 and by itself.\n",
    "\n",
    "Ex: 2, 3, 5, 7, 11 ..."
   ]
  },
  {
   "cell_type": "markdown",
   "metadata": {
    "deletable": true,
    "editable": true
   },
   "source": [
    "**Good standard way to do it**:\n",
    "   1. Every number less than $n$ must not be a divisor. Set $d = 2$. This $d$ is the divisor.\n",
    "   2. If $d$ divides $n$ without leaving behind a remainder, then $n$ is not a prime. \n",
    "   3. If it does not, then increment $d$ and try again. \n",
    "   4. If all $d < n$ don't divide $n$ exactly, then $n$ is a prime."
   ]
  },
  {
   "cell_type": "markdown",
   "metadata": {
    "deletable": true,
    "editable": true
   },
   "source": [
    "What we need to implement this check\n",
    "* We need to find a way to enforce the \"ifs\" and \"whethers\" (conditionals).\n",
    "* We need a way to automate the checks for us (looping).\n",
    "* Code maintenance (functions). \n",
    "\n",
    "We explored conditionals and looping. Now on to code maintenance and functions."
   ]
  },
  {
   "cell_type": "markdown",
   "metadata": {
    "deletable": true,
    "editable": true
   },
   "source": [
    "In principle, we should be able to write code to check for prime numbers using what we have learned so far. However, we are neglecting something very important - code maintenance. \n",
    "\n",
    "Ideally, you only want to write a piece of code once. Code should be portable, error free (unit tests), organized."
   ]
  },
  {
   "cell_type": "markdown",
   "metadata": {
    "deletable": true,
    "editable": true
   },
   "source": [
    "**Function** - It is a piece of code that can be called from anywhere inside your routines. It is written to perform a task when called and if suitable input is provided to it. It gives two very important advantages. \n",
    "\n",
    "**Why?**\n",
    "\n",
    " * Portability - Your function need not be tied down to the current program you are working on. The same function can be used as a black box for other programs. In other words, you can create a library of your functions. Use and call them as you please.\n",
    " \n",
    " * Code maintenance - Code becomes legible. Writing 20 lines of code (very conservatively) 20 times (again very conservatively) every single time to perform the same calculation as opposed to writing one line to call a function which has been written once to do the same task. Code looks cleaner, legible, well organized and therefore well implemented."
   ]
  },
  {
   "cell_type": "markdown",
   "metadata": {
    "deletable": true,
    "editable": true
   },
   "source": [
    "Let us see an example first. Let us print all characters in the string `\"Hello world! Python is cool!\".`"
   ]
  },
  {
   "cell_type": "code",
   "execution_count": 54,
   "metadata": {
    "collapsed": true,
    "deletable": true,
    "editable": true
   },
   "outputs": [],
   "source": [
    "# First define a function to print all characters in the string\n",
    "\n",
    "def printChar(ls=\"Hello world! Python is cool!\"):\n",
    "    \"\"\" Print the elements of the list provided as input.\n",
    "    \n",
    "    Keywords:\n",
    "    ls: list containing elements to be printed.\n",
    "    \"\"\"\n",
    "    for i in ls:\n",
    "        print(i)\n"
   ]
  },
  {
   "cell_type": "code",
   "execution_count": 55,
   "metadata": {
    "collapsed": false,
    "deletable": true,
    "editable": true
   },
   "outputs": [
    {
     "name": "stdout",
     "output_type": "stream",
     "text": [
      "H\n",
      "e\n",
      "l\n",
      "l\n",
      "o\n",
      " \n",
      "w\n",
      "o\n",
      "r\n",
      "l\n",
      "d\n",
      "!\n",
      " \n",
      "P\n",
      "y\n",
      "t\n",
      "h\n",
      "o\n",
      "n\n",
      " \n",
      "i\n",
      "s\n",
      " \n",
      "c\n",
      "o\n",
      "o\n",
      "l\n",
      "!\n"
     ]
    }
   ],
   "source": [
    "# Define the string\n",
    "\n",
    "str1 = \"Hello world! Python is cool!\"\n",
    "printChar(str1)"
   ]
  },
  {
   "cell_type": "markdown",
   "metadata": {
    "deletable": true,
    "editable": true
   },
   "source": [
    "This function has some parts to it. Let us look at it step by step.\n",
    "\n",
    "First, the opening statement that tells python something new is being defined\n",
    "\n",
    "```python\n",
    "   \n",
    "   def printChar(ls=\"Hello world! Python is cool!):\n",
    "   \n",
    "```\n",
    "\n",
    "\n",
    "`def` is the keyword for a new object in the code being defined - function, class etc.\n",
    "\n",
    "Next comes the name of the function, followed by the arguments it takes in parantheses ending with a semicolon. The values `default1` and `default2` are default values that the function will take if no argument is passed.\n",
    "\n",
    "```python\n",
    "\n",
    "   Syntax:\n",
    "   \n",
    "   def functionName(argument1 = \"default1\", argument2 = \"default2\", ...):\n",
    "   \n",
    "```\n",
    "\n",
    "Indentation after semicolon begins automatically. Indentation is extremely important in Python as you probably have realized by now. It has its uses and disadvantages. \n",
    "\n",
    "It makes the code look very neat and very organized. In fact, organization and legibility was the whole reason behind the indentation. Downside is, it is hard to get used to and like if you come from other languages like C, C++. Very long code chunks can cause your indentation to get messed up. But the point is, Python discourages you from writing such code since it is not in \"good taste\". \n",
    "\n",
    "If it doesn't bother you, great! If it does, well.. there's tons of other things to like and Python isn't perfect. So its alright. You will eventually get used to it trust me."
   ]
  },
  {
   "cell_type": "markdown",
   "metadata": {
    "deletable": true,
    "editable": true
   },
   "source": [
    "Immediately following the `def` statement, the body of the function begins. The first set of comments you see is a special kind of commenting. It is called a **docstring**.\n",
    "\n",
    "```python\n",
    "\"\"\" Print the elements of the list provided as input.\n",
    "    \n",
    "    Keywords:\n",
    "    ls: list containing elements to be printed.\n",
    "\"\"\"\n",
    "```\n",
    "\n",
    "The docstring carries information about the function and can be accessed when you want to use it with the key combination `shift+tab`. It should be written to make explicit what the purpose of the function is, the arguments which need to be supplied, the types of arguments it expects and any other information you think is necessary for a user who *hasn't written this function*. \n",
    "\n",
    "Rule of thumb - Always write code for a user who is not yourself."
   ]
  },
  {
   "cell_type": "markdown",
   "metadata": {
    "deletable": true,
    "editable": true
   },
   "source": [
    "Finally, the function body follows. The function can return values as output using the `return` statement. In this case, it doesn't send an output back to the code that calls it. It just prints out numbers.\n",
    "\n",
    "If you were to return the value of the first element in the list inside the function, it would look like this."
   ]
  },
  {
   "cell_type": "code",
   "execution_count": 56,
   "metadata": {
    "collapsed": true,
    "deletable": true,
    "editable": true
   },
   "outputs": [],
   "source": [
    "def printChar2(ls=\"Hello world! Python is cool!\"):\n",
    "    \"\"\" Print the elements of the list provided as input. It also returns the value of the first element in the\n",
    "    list provided as input. \n",
    "    \n",
    "    Keywords:\n",
    "    ls: list containing elements to be printed.\n",
    "    \"\"\"\n",
    "    for i in ls:\n",
    "        print(i)\n",
    "    return ls[0]\n",
    "\n",
    "\n"
   ]
  },
  {
   "cell_type": "code",
   "execution_count": 57,
   "metadata": {
    "collapsed": false,
    "deletable": true,
    "editable": true
   },
   "outputs": [
    {
     "name": "stdout",
     "output_type": "stream",
     "text": [
      "1\n",
      "2\n",
      "3\n",
      "4\n",
      "5\n",
      "6\n",
      "7\n",
      "8\n",
      "9\n",
      "\n",
      "\n",
      "1\n"
     ]
    }
   ],
   "source": [
    "ls1 = list(range(1, 10)) # \n",
    "out = printChar2(ls1)\n",
    "print(\"\\n\")\n",
    "print(out)"
   ]
  },
  {
   "cell_type": "markdown",
   "metadata": {
    "deletable": true,
    "editable": true
   },
   "source": [
    "The operation we defined on strings is defined on lists too. As it turns out, this function is more powerful than it looked at first glance.  \n",
    "\n",
    "This is an interesting thought then - Since it becomes hard to keep track of all the functions for different variable types and purposes, can we not just have one function do everything? \n",
    "\n",
    "This sort of abstraction is very useful and powerful. But it is also dangerous. \n",
    "Taken too far it makes things very complicated. However, in the right amounts, it can be very powerful. A function that has the same name, but can take different variables (types and number) is called function overloading. Depending on the type of input given, it automatically will pick up the correct implementation for that type. Look it up.\n",
    "\n",
    "Try to make your functions as general as you can as a rule of thumb - although there is no need to force it. Abstraction is an important concept and one of the pillars of the whole concept of *Object Oriented Programming*."
   ]
  },
  {
   "cell_type": "markdown",
   "metadata": {
    "collapsed": true,
    "deletable": true,
    "editable": true
   },
   "source": [
    "## Putting these concepts together for our first project\n",
    "\n",
    "### Function to check if a number is prime or not"
   ]
  },
  {
   "cell_type": "code",
   "execution_count": 8,
   "metadata": {
    "collapsed": true,
    "deletable": true,
    "editable": true
   },
   "outputs": [],
   "source": [
    "def CheckPrime(n=3):\n",
    "    \"\"\"\n",
    "Function to check whether a given number 'n' is a prime number or not. \n",
    "\n",
    "Keywords:\n",
    "\n",
    "n - Function argument. Number on which check has to be made.\n",
    "out - Function output. If 'n' is a prime, then out = 1, else out = 0\n",
    "\n",
    "\"\"\"\n",
    "    out = 1\n",
    "    for i in list(range(2, n)):\n",
    "        if (n%i == 0):\n",
    "            out = 0\n",
    "        \n",
    "    if (out == 0):\n",
    "        print(\"No, n = {} is not a prime.\".format(n))\n",
    "    else:\n",
    "        print(\"Yes, n = {} is a prime.\".format(n))\n",
    "    \n",
    "    return out\n"
   ]
  },
  {
   "cell_type": "code",
   "execution_count": 18,
   "metadata": {
    "collapsed": false,
    "deletable": true,
    "editable": true
   },
   "outputs": [
    {
     "name": "stdout",
     "output_type": "stream",
     "text": [
      "No, n = 116 is not a prime.\n"
     ]
    }
   ],
   "source": [
    "w = CheckPrime(116) # Try different values"
   ]
  },
  {
   "cell_type": "markdown",
   "metadata": {
    "deletable": true,
    "editable": true
   },
   "source": [
    "### Is the above function good enough? - Error handling and code testing.\n",
    "\n",
    "The above function returns sensible results if the input is chosen properly. However, we can make the function give nonsense results very easily.\n",
    "\n",
    "Some things to test - \n",
    " 1. What happens if we pass integers 0,1 and 2?\n",
    " 2. What happens is we pass negative integers?\n",
    " 3. What happens if we pass in floating point numbers?\n",
    " \n",
    "We need to do some error handling and put checks and bounds in anticipation of known troublesome cases. Sometimes, we may not even know what these cases are till we test all possibilities and find the program misbehaving. \n",
    "\n",
    "**Thorough code testing is a must!**"
   ]
  },
  {
   "cell_type": "markdown",
   "metadata": {
    "deletable": true,
    "editable": true
   },
   "source": [
    "Let us build in some error handling statements. Future examples will get more complicated, but let us take apart `CheckPrime` to see how to add some checks and bounds. \n",
    "\n",
    "Points 1 and 2 above are related. The function must not accept inputs less than 2. Consolidating checks may not always be so obvious. Sometimes, too much generalization can cause errors themselves. Be very careful here. \n",
    "\n",
    "Let us redefine `CheckPrime` to reject inputs less than 2. "
   ]
  },
  {
   "cell_type": "code",
   "execution_count": 1,
   "metadata": {
    "collapsed": true,
    "deletable": true,
    "editable": true
   },
   "outputs": [],
   "source": [
    "def CheckPrime(n=3):\n",
    "    \"\"\"\n",
    "Function to check whether a given number 'n' is a prime number or not. \n",
    "\n",
    "Keywords:\n",
    "\n",
    "n - Function argument. Number on which check has to be made.\n",
    "out - Function output. If 'n' is a prime, then out = 1, else out = 0. If an error occurs, out = -1.\n",
    "\n",
    "\"\"\"\n",
    "    out = 1 # Assume number is prime to begin with.\n",
    "    \n",
    "    # Make a special case for n = 2\n",
    "    if (n == 2):\n",
    "        return out\n",
    "    \n",
    "    # Reject numbers less than 2. This includes all negative numbers\n",
    "    if (n < 2):\n",
    "        print(\"Enter a meaningful number. n must be a positive integer greater than 2.\")\n",
    "        out = -1\n",
    "        return out\n",
    "    \n",
    "    # Loop over each number less than n and check if remainder due to division is zero. If yes, n is composite\n",
    "    for i in list(range(2, n)):\n",
    "        if (n%i == 0):\n",
    "            out = 0\n",
    "        \n",
    "    if (out == 0):\n",
    "        print(\"No, n = {} is not a prime.\".format(n))\n",
    "    else:\n",
    "        print(\"Yes, n = {} is a prime.\".format(n))\n",
    "    \n",
    "    return out"
   ]
  },
  {
   "cell_type": "code",
   "execution_count": 21,
   "metadata": {
    "collapsed": false,
    "deletable": true,
    "editable": true
   },
   "outputs": [
    {
     "name": "stdout",
     "output_type": "stream",
     "text": [
      "Enter a meaningful number. n must be a positive integer greater than 2.\n"
     ]
    }
   ],
   "source": [
    "w = CheckPrime(-1) # Try different values"
   ]
  },
  {
   "cell_type": "code",
   "execution_count": 22,
   "metadata": {
    "collapsed": false,
    "deletable": true,
    "editable": true
   },
   "outputs": [
    {
     "name": "stdout",
     "output_type": "stream",
     "text": [
      "-1\n"
     ]
    }
   ],
   "source": [
    "print(w)"
   ]
  },
  {
   "cell_type": "markdown",
   "metadata": {
    "deletable": true,
    "editable": true
   },
   "source": [
    "Now let us address the issue of floating point numbers. This is the second check, so the first question is - \n",
    "where in the function does it go? Should it be written after or before the previous check?\n",
    "\n",
    "The previous check covers both floating point numbers and integers as long as they are less than 2. So we only need\n",
    "to add the check for $n > 2$. Therefore, I put the check after the first one. Otherwise, I might end up going through\n",
    "more checks for $n < 2$ if $n$ is provided as a float.\n",
    "\n",
    "Now the next question is, what do we do if $n$ is a float. One way would be to reject the number completely. Another would be to round off to the nearest integer and perform the check regardless. I am doing the latter.\n",
    "This is a judgement call. You may prefer the function to just give an error and exit."
   ]
  },
  {
   "cell_type": "code",
   "execution_count": 2,
   "metadata": {
    "collapsed": true,
    "deletable": true,
    "editable": true
   },
   "outputs": [],
   "source": [
    "def CheckPrime(n=3):\n",
    "    \"\"\"\n",
    "Function to check whether a given number 'n' is a prime number or not. \n",
    "\n",
    "Keywords:\n",
    "\n",
    "n - Function argument. Number on which check has to be made. Input must be a positive integer greater than 2.\n",
    "    \n",
    "out - Function output. If 'n' is a prime, then out = 1, else out = 0. If n < 2, out = -1 and error is displayed.\n",
    "      If floating point number is provided, it is rounded off to nearest integer as long as n > 2 and the function\n",
    "      still works.\n",
    "\n",
    "\"\"\"\n",
    "\n",
    "    out = 1 # Assume number is prime to begin with.\n",
    "    \n",
    "    # Make a special case for n = 2\n",
    "    if (n == 2):\n",
    "        return out\n",
    "    \n",
    "    # Reject numbers less than 2. This includes all negative numbers\n",
    "    if (n < 2):\n",
    "        print(\"Enter a meaningful number. n must be a positive integer greater than 2.\")\n",
    "        out = -1\n",
    "        return out\n",
    "    n = round(n)\n",
    "    \n",
    "    # Loop over each number less than n and check if remainder due to division is zero. If yes, n is composite\n",
    "    for i in list(range(2, n)):\n",
    "        if (n%i == 0):\n",
    "            out = 0\n",
    "        \n",
    "    if (out == 0):\n",
    "        print(\"No, n = {} is not a prime.\".format(n))\n",
    "    else:\n",
    "        print(\"Yes, n = {} is a prime.\".format(n))\n",
    "    \n",
    "    return out"
   ]
  },
  {
   "cell_type": "code",
   "execution_count": 3,
   "metadata": {
    "collapsed": false,
    "deletable": true,
    "editable": true
   },
   "outputs": [
    {
     "name": "stdout",
     "output_type": "stream",
     "text": [
      "No, n = 6 is not a prime.\n"
     ]
    }
   ],
   "source": [
    "w = CheckPrime(5.8)"
   ]
  },
  {
   "cell_type": "markdown",
   "metadata": {
    "deletable": true,
    "editable": true
   },
   "source": [
    "Notice the comments in the function body. Without those code can become illegible to even the original writer. Uncommented and disorganized code is a seriously bad habit. Well written code does not only mean well implemented code, it also means well organized and well documented code. Your code must be clear at a glance. "
   ]
  },
  {
   "cell_type": "code",
   "execution_count": null,
   "metadata": {
    "collapsed": true,
    "deletable": true,
    "editable": true
   },
   "outputs": [],
   "source": []
  },
  {
   "cell_type": "code",
   "execution_count": 4,
   "metadata": {
    "collapsed": false,
    "deletable": true,
    "editable": true
   },
   "outputs": [
    {
     "name": "stdout",
     "output_type": "stream",
     "text": [
      "No, n = 112 is not a prime.\n"
     ]
    },
    {
     "data": {
      "text/plain": [
       "0"
      ]
     },
     "execution_count": 4,
     "metadata": {},
     "output_type": "execute_result"
    }
   ],
   "source": [
    "CheckPrime(112)"
   ]
  },
  {
   "cell_type": "markdown",
   "metadata": {
    "deletable": true,
    "editable": true
   },
   "source": [
    "### Writing pseudo-code\n",
    "\n",
    "**What is pseudo-code?** \n",
    "\n",
    "Pseudo-code is a list of steps i.e. your algorithm that you will use to code. It is rarely, if ever, a smart idea to start writing code directly. Always lay out your ideas on a sheet of paper, or at least in notepad or some word editor before you start coding. Writing code should be the absolute last step of solving problems on a computer. \n",
    "\n",
    "For instance, I would write pseudo-code for the `CheckPrime2` function the following way.\n",
    "\n",
    " 1. Send input $n$ to `CheckPrime2`\n",
    " 2. Clean up input.\n",
    " 3. Set default to prime.\n",
    " 4. Run loop over all integers greater than 2 and less than $n$.\n",
    " 5. If a divisor is found, mark as composite number and exit.\n",
    " 6. If no divisor is found, mark as prime and exit.\n",
    " \n",
    "Notice how it corresponds directly to the function body we wrote. You can put in syntax into your pseudo-code if you wish. Sometimes each of the tasks can be broken down further into smaller tasks. \n",
    "\n",
    "Figure out a scheme that is comfortable for you to use. Your pseudo-code is your guiding lamp and your path. Writing code is only following on that path with the light in your hand. \n",
    " \n"
   ]
  },
  {
   "cell_type": "markdown",
   "metadata": {
    "deletable": true,
    "editable": true
   },
   "source": [
    "\n",
    "### List of primes\n",
    "\n",
    "Next, let us list write a function to list all the primes less than $n$. Let us write down pseudo-code for this.\n",
    "\n",
    " 1. Send input n to function `ListPrimes`.\n",
    " 2. Clean up input.\n",
    " 3. Loop over all integers from 2 to $n$.\n",
    "  * For each integer $m$ in this loop, check if the number is a prime.\n",
    "  * If yes, then add to list of primes.\n",
    " 4. Once the loop is over, return output, clean up and exit.\n",
    " \n",
    "Now notice how step 3 involves figuring out if a number is a prime. If you had started this task first, you would have then written pseudo-code for checking if a number is prime too.\n",
    "\n",
    "Henceforth, I won't write pseudo-code in such detail every class. But it is your responsibility to write it out for all your work. "
   ]
  },
  {
   "cell_type": "code",
   "execution_count": 79,
   "metadata": {
    "collapsed": true,
    "deletable": true,
    "editable": true
   },
   "outputs": [],
   "source": [
    "def ListPrimes(n=3):\n",
    "    \n",
    "    \n",
    "        \"\"\"\n",
    "Function to list all primes less than n. \n",
    "\n",
    "Keywords:\n",
    "\n",
    "n - Function argument. Upper bound on the largest prime in the list. Input must be a positive integer greater than 2.\n",
    "    \n",
    "primeList - Function output consisting of list of primes less than n. If correct input is not given\n",
    "            empty list is returned.\n",
    "\n",
    "\"\"\"\n",
    "        \n",
    "        primeList = []\n",
    "    # Perform input clean up\n",
    "        \n",
    "        if (n < 2):\n",
    "            print(\"Enter a meaningful number. n must be a positive integer greater than 2.\")\n",
    "            out = -1\n",
    "            return primeList   \n",
    "    \n",
    "        n = round(n)\n",
    "    \n",
    "    # Initialize empty list of primes\n",
    "    \n",
    "\n",
    "    \n",
    "        for m in list(range(2, n)):\n",
    "            test = CheckPrime(m)\n",
    "            if (test == 1):\n",
    "                primeList.append(m)\n",
    "    \n",
    "        return primeList\n"
   ]
  },
  {
   "cell_type": "markdown",
   "metadata": {
    "deletable": true,
    "editable": true
   },
   "source": [
    "Let us check if this function works now."
   ]
  },
  {
   "cell_type": "code",
   "execution_count": 96,
   "metadata": {
    "collapsed": false,
    "deletable": true,
    "editable": true
   },
   "outputs": [
    {
     "name": "stdout",
     "output_type": "stream",
     "text": [
      "Yes, n = 2 is a prime.\n",
      "Yes, n = 3 is a prime.\n",
      "No, n = 4 is not a prime.\n",
      "Yes, n = 5 is a prime.\n",
      "No, n = 6 is not a prime.\n",
      "Yes, n = 7 is a prime.\n",
      "No, n = 8 is not a prime.\n",
      "No, n = 9 is not a prime.\n",
      "[2, 3, 5, 7]\n"
     ]
    }
   ],
   "source": [
    "l = ListPrimes(10)\n",
    "print(l)"
   ]
  },
  {
   "cell_type": "markdown",
   "metadata": {
    "deletable": true,
    "editable": true
   },
   "source": [
    "The above output is probably too verbose for our purposes, but for now it will do. "
   ]
  },
  {
   "cell_type": "markdown",
   "metadata": {
    "deletable": true,
    "editable": true
   },
   "source": [
    "### Optimization\n",
    "\n",
    "Usually - unless it is an extremely well thought out or simple problem - your first version of the code is not going to be the best implemented version. You want to make sure that you squeeze as much performance out of your code as possible. However, at some point, the returns diminish and the development time is not worth it. You have to be the judge. \n",
    "\n",
    "For instance, in our function, we checked all the numbers from 2 to $n$ to check if $n$ is a prime. But this is not efficient code. Why?\n",
    "\n",
    "\n",
    "\n"
   ]
  },
  {
   "cell_type": "markdown",
   "metadata": {
    "deletable": true,
    "editable": true
   },
   "source": [
    "We don't need to calculate all the divisors. If one is found, it is good enough. We can actually report that the number is not a prime. In fact, unless we actually encounter a prime, a divisor is guaranteed to found before the loops end. So bother doing them all? So let us rewrite the function. "
   ]
  },
  {
   "cell_type": "code",
   "execution_count": 97,
   "metadata": {
    "collapsed": true,
    "deletable": true,
    "editable": true
   },
   "outputs": [],
   "source": [
    "def CheckPrime2(n=3):\n",
    "    \"\"\"\n",
    "Function to check whether a given number 'n' is a prime number or not. \n",
    "\n",
    "Keywords:\n",
    "\n",
    "n - Function argument. Number on which check has to be made. Input must be a positive integer greater than 2.\n",
    "    \n",
    "out - Function output. If 'n' is a prime, then out = 1, else out = 0. If n < 2, out = -1 and error is displayed.\n",
    "      If floating point number is provided, it is rounded off to nearest integer as long as n > 2 and the function\n",
    "      still works.\n",
    "\n",
    "\"\"\"\n",
    "    # Input is assumed to be a prime by default unless it is found to be otherwise.\n",
    "    out = 1  \n",
    "    \n",
    "    # Check whether n > 2 and report error message otherwise.    \n",
    "    if (n < 2):\n",
    "        print(\"Enter a meaningful number. n must be a positive integer greater than 2.\")\n",
    "        out = -1\n",
    "        return out   \n",
    "    \n",
    "    # Just to make sure that no floating point numbers are used for calculations, \n",
    "    # round off to nearest integer\n",
    "    n = round(n)\n",
    "    \n",
    "    # Check that no divisor i exists for all i < n. If yes, report not a prime. If no, report it is a prime.\n",
    "    for i in list(range(2, n)):\n",
    "        if (n%i == 0):\n",
    "            out = 0\n",
    "            print(\"No, n = {} is not a prime.\".format(n))\n",
    "            return out\n",
    "            \n",
    "   \n",
    "    print(\"Yes, n = {} is a prime.\".format(n))\n",
    "    \n",
    "    return out"
   ]
  },
  {
   "cell_type": "markdown",
   "metadata": {
    "deletable": true,
    "editable": true
   },
   "source": [
    "\n",
    "\n",
    "Can you make this code faster? Try it out."
   ]
  },
  {
   "cell_type": "markdown",
   "metadata": {
    "deletable": true,
    "editable": true
   },
   "source": [
    "We need a way to find out how fast code is. We use the `time` command present in the `time` module."
   ]
  },
  {
   "cell_type": "code",
   "execution_count": 98,
   "metadata": {
    "collapsed": true,
    "deletable": true,
    "editable": true
   },
   "outputs": [],
   "source": [
    "from time import time"
   ]
  },
  {
   "cell_type": "markdown",
   "metadata": {
    "deletable": true,
    "editable": true
   },
   "source": [
    "We can now time how long it takes for the code to run for different values of $n$. List of primes can be obtained [here](https://www.bigprimes.net/archive/prime/) for quick checks. "
   ]
  },
  {
   "cell_type": "code",
   "execution_count": 99,
   "metadata": {
    "collapsed": false,
    "deletable": true,
    "editable": true
   },
   "outputs": [
    {
     "name": "stdout",
     "output_type": "stream",
     "text": [
      "No, n = 179426454 is not a prime.\n",
      "Time taken = 16.55986452102661 s\n"
     ]
    }
   ],
   "source": [
    "tStart = time()\n",
    "w = CheckPrime(179426454)\n",
    "tEnd = time()\n",
    "print(\"Time taken = {} s\". format(tEnd-tStart))"
   ]
  },
  {
   "cell_type": "code",
   "execution_count": 100,
   "metadata": {
    "collapsed": false,
    "deletable": true,
    "editable": true
   },
   "outputs": [
    {
     "name": "stdout",
     "output_type": "stream",
     "text": [
      "No, n = 179426454 is not a prime.\n",
      "Time taken = 6.186064958572388 s\n"
     ]
    }
   ],
   "source": [
    "tStart = time()\n",
    "w = CheckPrime2(179426454)\n",
    "tEnd = time()\n",
    "print(\"Time taken = {} s\". format(tEnd-tStart))"
   ]
  },
  {
   "cell_type": "markdown",
   "metadata": {
    "deletable": true,
    "editable": true
   },
   "source": [
    "Our second function executes faster as expected.\n",
    "\n",
    "The time calculated here is for the entire function to execute, which means generating a list the size of the input which is added into the cost of the calculation. If you want only the time taken for the loops to run, implement the `time()` method inside the function."
   ]
  },
  {
   "cell_type": "markdown",
   "metadata": {
    "deletable": true,
    "editable": true
   },
   "source": [
    "**Can we make this even faster?**\n",
    "\n",
    "The tendency is to jump to something on the tech side - like get a faster machine, or parallelize it etc. They all will make it faster. The real leaps however, typically, come from you i.e. the programmer. It is up to you to get the most out of your machine. The answer in some cases is a faster machine yes, but how you write your code and the algorithms you use usually determine the performance of your code in real world situations."
   ]
  },
  {
   "cell_type": "markdown",
   "metadata": {
    "deletable": true,
    "editable": true
   },
   "source": [
    "The function `checkPrime2` tells us whether a number is a prime or not without a doubt. We can use less precise methods to find primes. We may get some false positives or false negatives, but remember, primes are rare - especially as the size of the numbers increases."
   ]
  },
  {
   "cell_type": "markdown",
   "metadata": {
    "deletable": true,
    "editable": true
   },
   "source": [
    "** Method 2 **\n",
    "\n",
    "If $n$ is not a prime then $n$ is divisible by some $m \\leq \\sqrt{n}$\n",
    "\n",
    "**Proof:** If $n = km$ and $k, m > \\sqrt{n}$ then \n",
    "$$ n = km > \\sqrt{n}\\cdot\\sqrt{n} = n$$ \n",
    "which is impossible. So we must have at least one divisor less than or equal to $\\sqrt{n}$.\n",
    "\n",
    "So, in order to test if a number $n$ is prime we only need to check if it is divisible by some $1 < m \\leq \\sqrt{n}$.\n",
    "\n",
    "This greatly reduces runtime! Let us rewrite the function to check primes then."
   ]
  },
  {
   "cell_type": "code",
   "execution_count": 111,
   "metadata": {
    "collapsed": true,
    "deletable": true,
    "editable": true
   },
   "outputs": [],
   "source": [
    "def CheckPrime3(n=3):\n",
    "    \"\"\"\n",
    "Function to check whether a given number 'n' is a prime number or not. \n",
    "\n",
    "Keywords:\n",
    "\n",
    "n - Function argument. Number on which check has to be made. Input must be a positive integer greater than 2.\n",
    "    \n",
    "out - Function output. If 'n' is a prime, then out = 1, else out = 0. If n < 2, out = -1 and error is displayed.\n",
    "      If floating point number is provided, it is rounded off to nearest integer as long as n > 2 and the function\n",
    "      still works.\n",
    "\n",
    "\"\"\"\n",
    "    # Input is assumed to be a prime by default unless it is found to be otherwise.\n",
    "    out = 1  \n",
    "    \n",
    "    # Check whether n > 2 and report error message otherwise.    \n",
    "    if (n < 2):\n",
    "    #    print(\"Enter a meaningful number. n must be a positive integer greater than 2.\")\n",
    "        out = -1\n",
    "        return out   \n",
    "    \n",
    "    # Just to make sure that no floating point numbers are used for calculations, \n",
    "    # round off to nearest integer\n",
    "    n = round(n)\n",
    "    \n",
    "    # Check that no divisor i exists for all i < n. If yes, report not a prime. If no, report it is a prime.\n",
    "    for i in list(range(2, int(n**0.5) + 1)):  # Only changed the extent of the loop.\n",
    "        if (n%i == 0):\n",
    "            out = 0\n",
    "    #        print(\"No, n = {} is not a prime.\".format(n))\n",
    "            return out\n",
    "            \n",
    "   \n",
    "    #print(\"Yes, n = {} is a prime.\".format(n))\n",
    "    \n",
    "    return out"
   ]
  },
  {
   "cell_type": "code",
   "execution_count": 112,
   "metadata": {
    "collapsed": false,
    "deletable": true,
    "editable": true
   },
   "outputs": [
    {
     "name": "stdout",
     "output_type": "stream",
     "text": [
      "Time taken = 0.001001119613647461 s\n"
     ]
    }
   ],
   "source": [
    "tStart = time()\n",
    "w = CheckPrime3(179426123)\n",
    "tEnd = time()\n",
    "print(\"Time taken = {} s\". format(tEnd-tStart))"
   ]
  },
  {
   "cell_type": "markdown",
   "metadata": {
    "deletable": true,
    "editable": true
   },
   "source": [
    "The new code works much faster due to lesser computational load and memory required. This is actually orders of magnitude faster - even when the number is a prime! Quite a leap!\n",
    "\n",
    "Let us modify our `ListPrimes` function to include our shiny new `CheckPrimes3` function. I have turned off the print statements in the `CheckPrimes3` function."
   ]
  },
  {
   "cell_type": "code",
   "execution_count": 113,
   "metadata": {
    "collapsed": true,
    "deletable": true,
    "editable": true
   },
   "outputs": [],
   "source": [
    "def ListPrimes2(n=3):\n",
    "\"\"\"\n",
    "Function to list all primes less than n. \n",
    "\n",
    "Keywords:\n",
    "\n",
    "n - Function argument. Upper bound on the largest prime in the list. Input must be a positive integer greater than 2.\n",
    "    \n",
    "primeList - Function output consisting of list of primes less than n. If correct input is not given\n",
    "            empty list is returned.\n",
    "\n",
    "\"\"\"\n",
    "        \n",
    "        primeList = []\n",
    "    # Perform input clean up\n",
    "        \n",
    "        if (n < 2):\n",
    "            print(\"Enter a meaningful number. n must be a positive integer greater than 2.\")\n",
    "            out = -1\n",
    "            return primeList   \n",
    "    \n",
    "        n = round(n)\n",
    "    \n",
    "    # Initialize empty list of primes\n",
    "    \n",
    "\n",
    "    \n",
    "        for m in list(range(2, n)):\n",
    "            test = CheckPrime3(m)\n",
    "            if (test == 1):\n",
    "                primeList.append(m)\n",
    "    \n",
    "        return primeList\n"
   ]
  },
  {
   "cell_type": "markdown",
   "metadata": {
    "deletable": true,
    "editable": true
   },
   "source": [
    "Why don't you quantify the performance difference between the functions `ListPrimes` and `ListPrimes2`?\n",
    "\n",
    "Tip: Turn off the print statements in the different `CheckPrime` functions. This will make output manageable."
   ]
  },
  {
   "cell_type": "code",
   "execution_count": 115,
   "metadata": {
    "collapsed": false,
    "deletable": true,
    "editable": true
   },
   "outputs": [
    {
     "name": "stdout",
     "output_type": "stream",
     "text": [
      "[2, 3, 5, 7, 11, 13, 17, 19]\n"
     ]
    }
   ],
   "source": [
    "l = ListPrimes2(20)\n",
    "print(l)"
   ]
  },
  {
   "cell_type": "markdown",
   "metadata": {
    "deletable": true,
    "editable": true
   },
   "source": [
    "### False primes\n",
    "\n",
    "**Congrences.** Two integers $m, n$ are *congruent* modulo $k$ if they have the same reminder from division by $k$. We write: \n",
    "\n",
    "$$m \\equiv n \\ (\\text{mod } k)$$\n",
    "\n",
    "**Example:** $8 \\equiv 23 \\ (\\text{mod } 3)$ since $8 = 3\\cdot2 + 2$ and $23 = 3\\cdot 7 + 2$."
   ]
  },
  {
   "cell_type": "markdown",
   "metadata": {
    "deletable": true,
    "editable": true
   },
   "source": [
    "**Theorem.** *If $p$ is a prime number then \n",
    "$$a^{p} \\equiv a \\ (\\text{mod } p)$$\n",
    "for any integer $0 < a < p$.*\n"
   ]
  },
  {
   "cell_type": "markdown",
   "metadata": {
    "deletable": true,
    "editable": true
   },
   "source": [
    "Let us write a function for determining if the numbers $m$ and $n$ are congruent modulo $k$."
   ]
  },
  {
   "cell_type": "code",
   "execution_count": 1,
   "metadata": {
    "collapsed": true,
    "deletable": true,
    "editable": true
   },
   "outputs": [],
   "source": [
    "def congruence_test(m, n, k):\n",
    "    \"\"\"\n",
    "    Function returns True if m and n are congruent modulo k and False otherwise. \n",
    "    \"\"\"\n",
    "    return m%k == n%k"
   ]
  },
  {
   "cell_type": "code",
   "execution_count": 2,
   "metadata": {
    "collapsed": false,
    "deletable": true,
    "editable": true
   },
   "outputs": [
    {
     "data": {
      "text/plain": [
       "True"
      ]
     },
     "execution_count": 2,
     "metadata": {},
     "output_type": "execute_result"
    }
   ],
   "source": [
    "congruence_test(8,23,3)"
   ]
  },
  {
   "cell_type": "code",
   "execution_count": 3,
   "metadata": {
    "collapsed": false,
    "deletable": true,
    "editable": true
   },
   "outputs": [
    {
     "data": {
      "text/plain": [
       "False"
      ]
     },
     "execution_count": 3,
     "metadata": {},
     "output_type": "execute_result"
    }
   ],
   "source": [
    "congruence_test(8,21,3)"
   ]
  },
  {
   "cell_type": "markdown",
   "metadata": {
    "deletable": true,
    "editable": true
   },
   "source": [
    "**Theorem.** *If $p$ is a prime number then \n",
    "$$a^{p} \\equiv a \\ (\\text{mod } p)$$\n",
    "for any integer $0 < a < p$.*\n",
    "\n",
    "The above theorem does not hold true in general if $p$ is not a prime - but is not necessarily false for composite numbers. In the calculation below, we use `pow(a, p, k)` since it is much faster."
   ]
  },
  {
   "cell_type": "code",
   "execution_count": 5,
   "metadata": {
    "collapsed": false,
    "deletable": true,
    "editable": true
   },
   "outputs": [
    {
     "name": "stdout",
     "output_type": "stream",
     "text": [
      "(5**7)%7 = 5, 5%7 = 5\n"
     ]
    }
   ],
   "source": [
    "# Visualizing the congruence relation between two numbers.\n",
    "a = 5\n",
    "p = 7\n",
    "\n",
    "c = (a**p)%p\n",
    "d = a%p\n",
    "\n",
    "print('({0}**{1})%{1} = {2}, {0}%{1} = {3}'.format(a, p, c, d))"
   ]
  },
  {
   "cell_type": "markdown",
   "metadata": {
    "deletable": true,
    "editable": true
   },
   "source": []
  },
  {
   "cell_type": "code",
   "execution_count": 6,
   "metadata": {
    "collapsed": false,
    "deletable": true,
    "editable": true
   },
   "outputs": [
    {
     "name": "stdout",
     "output_type": "stream",
     "text": [
      "(2**6)%6 = 4, 2%6 = 2\n"
     ]
    }
   ],
   "source": [
    "a = 2\n",
    "p = 6\n",
    "\n",
    "c = pow(a, p, p)\n",
    "d = a%p\n",
    "\n",
    "print('({0}**{1})%{1} = {2}, {0}%{1} = {3}'.format(a, p, c, d))"
   ]
  },
  {
   "cell_type": "code",
   "execution_count": null,
   "metadata": {
    "collapsed": true,
    "deletable": true,
    "editable": true
   },
   "outputs": [],
   "source": []
  },
  {
   "cell_type": "markdown",
   "metadata": {
    "deletable": true,
    "editable": true
   },
   "source": []
  },
  {
   "cell_type": "markdown",
   "metadata": {
    "collapsed": true,
    "deletable": true,
    "editable": true
   },
   "source": []
  },
  {
   "cell_type": "code",
   "execution_count": null,
   "metadata": {
    "collapsed": true,
    "deletable": true,
    "editable": true
   },
   "outputs": [],
   "source": []
  }
 ],
 "metadata": {
  "kernelspec": {
   "display_name": "Python 2",
   "language": "python",
   "name": "python2"
  },
  "language_info": {
   "codemirror_mode": {
    "name": "ipython",
    "version": 2
   },
   "file_extension": ".py",
   "mimetype": "text/x-python",
   "name": "python",
   "nbconvert_exporter": "python",
   "pygments_lexer": "ipython2",
   "version": "2.7.9"
  }
 },
 "nbformat": 4,
 "nbformat_minor": 2
}
