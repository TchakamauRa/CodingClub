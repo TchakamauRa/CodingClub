{
 "cells": [
  {
   "cell_type": "markdown",
   "metadata": {},
   "source": [
    "# CSV File Handling\n",
    "\n",
    "In this tutorial, we'll cover how to bring data in and out of a `python` program.\n",
    "\n",
    "Many scientific instruments and software will output what are called \"comma separated value\" files, or `.csv`s.\n",
    "These `.csv` files are usually structed like a table, with the type of data in the first row, or the header of the file, and values for each measurement in subsequent rows.\n",
    "\n",
    "Have a look at the provided file, `example_data.csv`, and you should see something like this:\n",
    "\n",
    "|t, |x, |y, |z  |\n",
    "|:-:|:-:|:-:|:-:|\n",
    "|0, |0, |0, | 0 |\n",
    "|1, |1, |2, | 1 |\n",
    "|2, |2, |4, | 4 |\n",
    "| ⋮ | ⋮ | ⋮ | ⋮ |\n",
    "\n",
    "Usually you'll know what kind of data the columns are supposed to represent according to their names (e.g. `t`, `x`, `y`, `z`).\n",
    "In this case, we'll say that the `t` column correpsonds to the time of each measurement of the (`x`, `y`, `z`) positions of some particle.\n",
    "\n",
    "Of course, we'll want to bring this data into `python` to be able to work with it a bit more.\n",
    "To do so, we will use some functions provided by the `numpy` package."
   ]
  },
  {
   "cell_type": "code",
   "execution_count": 1,
   "metadata": {},
   "outputs": [],
   "source": [
    "import numpy as np"
   ]
  },
  {
   "cell_type": "markdown",
   "metadata": {},
   "source": [
    "`numpy` has several options for reading-in `.csv` files, but we'll focus on `genfromtxt()` because its syntax is easy to understand and it is very flexible.\n",
    "\n",
    "In the following line, the first argument corresponds to the _name_ of the file we want to read (note: this must be a string, so it's enclosed in quotes), and the second argument tells `numpy` that the values in our files are separated by the character `','` (i.e. it's a `.csv`)."
   ]
  },
  {
   "cell_type": "code",
   "execution_count": 2,
   "metadata": {},
   "outputs": [
    {
     "data": {
      "text/plain": [
       "array([[nan, nan, nan, nan],\n",
       "       [ 0.,  0.,  0.,  0.],\n",
       "       [ 1.,  1.,  2.,  1.],\n",
       "       [ 2.,  2.,  4.,  4.],\n",
       "       [ 3.,  3.,  6.,  9.],\n",
       "       [ 4.,  4.,  8., 16.],\n",
       "       [ 5.,  5., 10., 25.],\n",
       "       [ 6.,  6., 12., 36.],\n",
       "       [ 7.,  7., 14., 49.],\n",
       "       [ 8.,  8., 16., 64.],\n",
       "       [ 9.,  9., 18., 81.]])"
      ]
     },
     "execution_count": 2,
     "metadata": {},
     "output_type": "execute_result"
    }
   ],
   "source": [
    "np.genfromtxt('example_data.csv', delimiter=',')"
   ]
  },
  {
   "cell_type": "markdown",
   "metadata": {},
   "source": [
    "Now there are a few things we can observe here.\n",
    "1. the data is read into an array, which is a very powerful object in python and one which we will use frequently.\n",
    "1. The first row is all `nan` values, which means that `numpy` couldn't read them as a number. This is because the first row of `example_data.csv` is `t, x, y, z`, which are all strings. To fix this, we want to tell numpy that the first row correspond to the names of the columns; we do this with the argument `names=True`.\n",
    "1. While this told us what was in our data file, we can't do anything with the printed output, so we need to save the output of this to some variable; we'll call this `data`.\n",
    "\n",
    "Implementing these changes, we get the following:"
   ]
  },
  {
   "cell_type": "code",
   "execution_count": 3,
   "metadata": {},
   "outputs": [],
   "source": [
    "data = np.genfromtxt('example_data.csv', delimiter=',', names=True)"
   ]
  },
  {
   "cell_type": "markdown",
   "metadata": {},
   "source": [
    "Now if we ask `python` what `data` is, we should get the right output..."
   ]
  },
  {
   "cell_type": "code",
   "execution_count": 4,
   "metadata": {},
   "outputs": [
    {
     "data": {
      "text/plain": [
       "array([(0., 0.,  0.,  0.), (1., 1.,  2.,  1.), (2., 2.,  4.,  4.),\n",
       "       (3., 3.,  6.,  9.), (4., 4.,  8., 16.), (5., 5., 10., 25.),\n",
       "       (6., 6., 12., 36.), (7., 7., 14., 49.), (8., 8., 16., 64.),\n",
       "       (9., 9., 18., 81.)],\n",
       "      dtype=[('t', '<f8'), ('x', '<f8'), ('y', '<f8'), ('z', '<f8')])"
      ]
     },
     "execution_count": 4,
     "metadata": {},
     "output_type": "execute_result"
    }
   ],
   "source": [
    "data"
   ]
  },
  {
   "cell_type": "markdown",
   "metadata": {},
   "source": [
    "But now the format is different!\n",
    "We can see that each row of our data file now corresponds to a tuple (i.e. an object of the form `(...)`), and there is now something called `dtype`, which has stored the names of our columns.\n",
    "\n",
    "Don't worry too much about the syntax of `dtype` for now, but note that it can be useful for selecting individual columns:"
   ]
  },
  {
   "cell_type": "code",
   "execution_count": 5,
   "metadata": {},
   "outputs": [
    {
     "data": {
      "text/plain": [
       "array([0., 1., 2., 3., 4., 5., 6., 7., 8., 9.])"
      ]
     },
     "execution_count": 5,
     "metadata": {},
     "output_type": "execute_result"
    }
   ],
   "source": [
    "data['t']"
   ]
  },
  {
   "cell_type": "code",
   "execution_count": 6,
   "metadata": {},
   "outputs": [
    {
     "data": {
      "text/plain": [
       "array([0., 1., 2., 3., 4., 5., 6., 7., 8., 9.])"
      ]
     },
     "execution_count": 6,
     "metadata": {},
     "output_type": "execute_result"
    }
   ],
   "source": [
    "data['x']"
   ]
  },
  {
   "cell_type": "code",
   "execution_count": 7,
   "metadata": {},
   "outputs": [
    {
     "data": {
      "text/plain": [
       "array([ 0.,  2.,  4.,  6.,  8., 10., 12., 14., 16., 18.])"
      ]
     },
     "execution_count": 7,
     "metadata": {},
     "output_type": "execute_result"
    }
   ],
   "source": [
    "data['y']"
   ]
  },
  {
   "cell_type": "code",
   "execution_count": 8,
   "metadata": {},
   "outputs": [
    {
     "data": {
      "text/plain": [
       "array([ 0.,  1.,  4.,  9., 16., 25., 36., 49., 64., 81.])"
      ]
     },
     "execution_count": 8,
     "metadata": {},
     "output_type": "execute_result"
    }
   ],
   "source": [
    "data['z']"
   ]
  },
  {
   "cell_type": "markdown",
   "metadata": {},
   "source": [
    "Now, suppose we want to find what the total distance of our particle is from the origin at each time `t`.\n",
    "We have the `x`, `y`, and `z` distances, so the total distance should simply be $$d = \\sqrt{x^2 + y^2 + z^2}$$.\n",
    "\n",
    "I don't want to focus too much on how to compute this at the moment, but I'll do so using a list comprehension:"
   ]
  },
  {
   "cell_type": "code",
   "execution_count": 9,
   "metadata": {},
   "outputs": [
    {
     "data": {
      "text/plain": [
       "[0.0,\n",
       " 2.449489742783178,\n",
       " 6.0,\n",
       " 11.224972160321824,\n",
       " 18.33030277982336,\n",
       " 27.386127875258307,\n",
       " 38.41874542459709,\n",
       " 51.43928459844674,\n",
       " 66.4529909033446,\n",
       " 83.46256645946133]"
      ]
     },
     "execution_count": 9,
     "metadata": {},
     "output_type": "execute_result"
    }
   ],
   "source": [
    "d = [np.sqrt(x**2 + y**2 + z**2) for (x, y, z) in zip(data['x'], data['y'], data['z'])]\n",
    "d"
   ]
  },
  {
   "cell_type": "markdown",
   "metadata": {},
   "source": [
    "Finally, now that we've done some processing of our data, let's say we want to save our new information to a new file in case we want to share our results with someone else or work with it in another program.\n",
    "\n",
    "We'll again use `numpy`, this time with `savetxt()`.\n",
    "\n",
    "In the following line, the first argument corresponds to the file name that we want to save our data to; this should be a `.csv`, but it should _not_ be the same name as what we imported the data from (otherwise, we would overwrite the original data and could potentially lose our original measurements).\n",
    "\n",
    "Then we need to give `numpy` an array of the data we want it to save.\n",
    "Since `np.array()` likes to make rows but we're interested in saving our data as columns, we'll have to transpose this array, which is simply done with `np.array().T`.\n",
    "\n",
    "We'll specify the delimiter to be a `','` so we get the same `.csv` format as before.\n",
    "\n",
    "The last two arguments, header and comments, tell `numpy` what to write for the first row (i.e. for `example_data.csv` this is `t, x, y, z`).\n",
    "We have to specify `comments=''`, otherwise it will default to `#` and the first row would be `# t, d`---try running this code without the comments argument and you'll see what I mean.\n",
    "\n",
    "Let's say we just want to save the `t` and `d` columns for simplicity:"
   ]
  },
  {
   "cell_type": "code",
   "execution_count": 10,
   "metadata": {},
   "outputs": [],
   "source": [
    "np.savetxt('output.csv', np.array((data['t'], d)).T, delimiter=',', header='t, d', comments='')"
   ]
  },
  {
   "cell_type": "markdown",
   "metadata": {},
   "source": [
    "If you execute that line, you should now see a file called `output.csv` in your project folder with two columns, one corresponding to `t` and the other to `d` as expected.\n",
    "There is a file in this directory called `example_output.csv` to which you can compare your results."
   ]
  },
  {
   "cell_type": "code",
   "execution_count": null,
   "metadata": {},
   "outputs": [],
   "source": []
  }
 ],
 "metadata": {
  "kernelspec": {
   "display_name": "Python 3",
   "language": "python",
   "name": "python3"
  },
  "language_info": {
   "codemirror_mode": {
    "name": "ipython",
    "version": 3
   },
   "file_extension": ".py",
   "mimetype": "text/x-python",
   "name": "python",
   "nbconvert_exporter": "python",
   "pygments_lexer": "ipython3",
   "version": "3.7.0"
  }
 },
 "nbformat": 4,
 "nbformat_minor": 2
}
